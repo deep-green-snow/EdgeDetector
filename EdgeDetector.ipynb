{
 "cells": [
  {
   "cell_type": "code",
   "execution_count": 1,
   "metadata": {},
   "outputs": [],
   "source": [
    "import cv2\n",
    "\n",
    "img1_color = cv2.imread('dataset/img1.jpg', cv2.IMREAD_ANYCOLOR)\n",
    "img2_color = cv2.imread('dataset/img2.jpg', cv2.IMREAD_ANYCOLOR)\n",
    "img3_color = cv2.imread('dataset/img3.jpg', cv2.IMREAD_ANYCOLOR)\n",
    "img4_color = cv2.imread('dataset/img4.jpg', cv2.IMREAD_ANYCOLOR)\n",
    "\n",
    "img1 = cv2.imread('dataset/img1.jpg', cv2.IMREAD_GRAYSCALE)\n",
    "img2 = cv2.imread('dataset/img2.jpg', cv2.IMREAD_GRAYSCALE)\n",
    "img3 = cv2.imread('dataset/img3.jpg', cv2.IMREAD_GRAYSCALE)\n",
    "img4 = cv2.imread('dataset/img4.jpg', cv2.IMREAD_GRAYSCALE)"
   ]
  },
  {
   "cell_type": "markdown",
   "metadata": {},
   "source": [
    "Sobel"
   ]
  },
  {
   "cell_type": "code",
   "execution_count": 4,
   "metadata": {},
   "outputs": [
    {
     "name": "stdout",
     "output_type": "stream",
     "text": [
      "[[0 0 0 ... 0 0 0]\n",
      " [0 0 0 ... 0 0 0]\n",
      " [0 0 0 ... 0 0 0]\n",
      " ...\n",
      " [0 0 0 ... 0 0 0]\n",
      " [0 0 0 ... 0 0 0]\n",
      " [0 0 0 ... 0 0 0]]\n"
     ]
    }
   ],
   "source": [
    "img1_sobel_x = cv2.Sobel(img1, cv2.CV_64F, 1, 0, ksize = 3)\n",
    "img1_sobel_x = cv2.convertScaleAbs(img1_sobel_x)\n",
    "img1_sobel_y = cv2.Sobel(img1, cv2.CV_64F, 0, 1, ksize = 3)\n",
    "img1_sobel_y = cv2.convertScaleAbs(img1_sobel_y)\n",
    "img1_sobel = cv2.addWeighted(img1_sobel_x, 1, img1_sobel_y, 1, 0);\n",
    "print(img1_sobel)\n",
    "cv2.imshow(\"img1_original\", img1)\n",
    "cv2.imshow(\"img1_edge\", img1_sobel)\n",
    "cv2.waitKey(0)\n",
    "cv2.destroyAllWindows()"
   ]
  },
  {
   "cell_type": "markdown",
   "metadata": {},
   "source": [
    "Scharr"
   ]
  },
  {
   "cell_type": "code",
   "execution_count": null,
   "metadata": {},
   "outputs": [],
   "source": [
    "img2_scharr_x = cv2.Scharr(img2, cv2.CV_64F, 1, 0)\n",
    "img2_scharr_x = cv2.convertScaleAbs(img2_scharr_x)\n",
    "img2_scharr_y = cv2.Scharr(img2, cv2.CV_64F, 0, 1)\n",
    "img2_scharr_y = cv2.convertScaleAbs(img2_scharr_y)\n",
    "img2_scharr = cv2.addWeighted(img2_scharr_x, 1, img2_scharr_y, 1, 0);\n",
    "cv2.imshow(\"img1_original\", img2)\n",
    "cv2.imshow(\"img1_edge\", img2_scharr)\n",
    "cv2.waitKey(0)\n",
    "cv2.destroyAllWindows()"
   ]
  },
  {
   "cell_type": "code",
   "execution_count": null,
   "metadata": {},
   "outputs": [
    {
     "data": {
      "text/plain": [
       "[<matplotlib.lines.Line2D at 0x243c4597be0>]"
      ]
     },
     "execution_count": 46,
     "metadata": {},
     "output_type": "execute_result"
    },
    {
     "data": {
      "image/png": "[encoded data removed]",
      "text/plain": [
       "<Figure size 432x288 with 1 Axes>"
      ]
     },
     "metadata": {
      "needs_background": "light"
     },
     "output_type": "display_data"
    }
   ],
   "source": [
    "import matplotlib.pyplot as plt\n",
    "hist = cv2.calcHist(img2_scharr, [0], None, [256], [0,256])\n",
    "plt.plot(hist)"
   ]
  },
  {
   "cell_type": "markdown",
   "metadata": {},
   "source": [
    "Canny Edge"
   ]
  },
  {
   "cell_type": "code",
   "execution_count": null,
   "metadata": {},
   "outputs": [],
   "source": [
    "img = img3\n",
    "img_canny = cv2.Canny(img, 25, 50)\n",
    "cv2.imshow(\"img_original\", img)\n",
    "cv2.imshow(\"img_edge\", img_canny)\n",
    "cv2.waitKey(0)\n",
    "cv2.destroyAllWindows()"
   ]
  },
  {
   "cell_type": "markdown",
   "metadata": {},
   "source": [
    "Blob"
   ]
  },
  {
   "cell_type": "code",
   "execution_count": 67,
   "metadata": {},
   "outputs": [],
   "source": [
    "import numpy as np\n",
    "img = img1\n",
    "params = cv2.SimpleBlobDetector_Params()\n",
    "params.minThreshold = 0\n",
    "params.thresholdStep = 0.01\n",
    "params.maxThreshold = 1\n",
    "params.minArea = 0.01;\n",
    "params.maxArea = 100;\n",
    "params.filterByArea = True;\n",
    "params.filterByColor = True\n",
    "params.blobColor = 0\n",
    "\n",
    "detector = cv2.SimpleBlobDetector_create(params)\n",
    "kp = detector.detect(img)\n",
    "\n",
    "img_edge = cv2.drawKeypoints(img, kp, np.zeros((1,1)), (0,0,255), cv2.DRAW_MATCHES_FLAGS_DRAW_RICH_KEYPOINTS)\n",
    "\n",
    "cv2.imshow(\"img_original\", img)\n",
    "cv2.imshow(\"img_edge\", img_edge)\n",
    "cv2.waitKey(0)\n",
    "cv2.destroyAllWindows()\n"
   ]
  },
  {
   "cell_type": "code",
   "execution_count": 70,
   "metadata": {},
   "outputs": [
    {
     "name": "stdout",
     "output_type": "stream",
     "text": [
      "1\n"
     ]
    },
    {
     "data": {
      "text/plain": [
       "-1"
      ]
     },
     "execution_count": 70,
     "metadata": {},
     "output_type": "execute_result"
    }
   ],
   "source": [
    "img = img1\n",
    "ret, binary = cv2.threshold(img, 127, 255, cv2.THRESH_BINARY)\n",
    "contours, hierarchy = cv2.findContours(binary, cv2.RETR_CCOMP, cv2.CHAIN_APPROX_NONE)\n",
    "print(len(contours))\n",
    "for cnt in contours:\n",
    "    cv2.drawContours(img1_color, [cnt], 0, (0, 0, 255), 3)  # blue\n",
    "\n",
    "cv2.imshow(\"result\", img1_color)\n",
    "\n",
    "cv2.waitKey(0)"
   ]
  },
  {
   "cell_type": "code",
   "execution_count": null,
   "metadata": {},
   "outputs": [],
   "source": [
    "cv2.filter2D()"
   ]
  }
 ],
 "metadata": {
  "interpreter": {
   "hash": "28dab01dec03d12994883240c5132e5e98bf6e42d73af98622bf439c68e03b43"
  },
  "kernelspec": {
   "display_name": "Python 3.8.5 ('alab_devws')",
   "language": "python",
   "name": "python3"
  },
  "language_info": {
   "codemirror_mode": {
    "name": "ipython",
    "version": 3
   },
   "file_extension": ".py",
   "mimetype": "text/x-python",
   "name": "python",
   "nbconvert_exporter": "python",
   "pygments_lexer": "ipython3",
   "version": "3.8.5"
  },
  "orig_nbformat": 4
 },
 "nbformat": 4,
 "nbformat_minor": 2
}
